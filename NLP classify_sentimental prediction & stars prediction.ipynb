{
 "cells": [
  {
   "cell_type": "code",
   "execution_count": 1,
   "metadata": {},
   "outputs": [],
   "source": [
    "import json\n",
    "import pandas as pd\n",
    "import numpy as np\n",
    "import seaborn as sns\n",
    "import powerlaw\n",
    "import matplotlib.pyplot as plt\n",
    "%matplotlib inline"
   ]
  },
  {
   "cell_type": "code",
   "execution_count": 2,
   "metadata": {},
   "outputs": [],
   "source": [
    "def readReview(path, business):\n",
    "    review=[]\n",
    "    reviewdf = pd.DataFrame.from_records(review)\n",
    "    with open(path + \"review.json\", 'rb') as f:\n",
    "        for l in f:\n",
    "            data = json.loads(l)\n",
    "            review.append(data)\n",
    "            if len(review) > 1000000:\n",
    "                df = pd.DataFrame.from_records(review)\n",
    "                df = pd.merge(df, business, on=['business_id'])\n",
    "                review = []\n",
    "                reviewdf = pd.concat([reviewdf, df])\n",
    "        df = pd.DataFrame.from_records(review)\n",
    "        df = pd.merge(df, business, on=['business_id'])\n",
    "        review = []\n",
    "        reviewdf = pd.concat([reviewdf, df])\n",
    "    return reviewdf"
   ]
  },
  {
   "cell_type": "code",
   "execution_count": 3,
   "metadata": {},
   "outputs": [],
   "source": [
    "def readBusiness(path):\n",
    "    business=[]\n",
    "    for l in open(path + \"business.json\", 'rb').readlines():\n",
    "        business.append(json.loads(l))\n",
    "    businessdf = pd.DataFrame.from_records(business)\n",
    "    return businessdf"
   ]
  },
  {
   "cell_type": "code",
   "execution_count": 4,
   "metadata": {},
   "outputs": [],
   "source": [
    "path = \"D:\\study\\\\NU\\\\20winter\\\\396\\yelp\\\\\"\n",
    "business = readBusiness(path)\n",
    "business = business[business.state == \"IL\"]\n",
    "business = business.drop(['stars'],axis=1)\n",
    "review = readReview(path, business)"
   ]
  },
  {
   "cell_type": "code",
   "execution_count": 5,
   "metadata": {},
   "outputs": [],
   "source": [
    "review['text length'] = review[['text']].applymap(lambda x: len(x.split(\" \")))"
   ]
  },
  {
   "cell_type": "markdown",
   "metadata": {},
   "source": [
    "transfer text into lower case"
   ]
  },
  {
   "cell_type": "code",
   "execution_count": 6,
   "metadata": {},
   "outputs": [
    {
     "data": {
      "text/html": [
       "<div>\n",
       "<style scoped>\n",
       "    .dataframe tbody tr th:only-of-type {\n",
       "        vertical-align: middle;\n",
       "    }\n",
       "\n",
       "    .dataframe tbody tr th {\n",
       "        vertical-align: top;\n",
       "    }\n",
       "\n",
       "    .dataframe thead th {\n",
       "        text-align: right;\n",
       "    }\n",
       "</style>\n",
       "<table border=\"1\" class=\"dataframe\">\n",
       "  <thead>\n",
       "    <tr style=\"text-align: right;\">\n",
       "      <th></th>\n",
       "      <th>text</th>\n",
       "      <th>text1</th>\n",
       "    </tr>\n",
       "  </thead>\n",
       "  <tbody>\n",
       "    <tr>\n",
       "      <th>0</th>\n",
       "      <td>I got stuck in Myrtle Beach last week and stay...</td>\n",
       "      <td>i got stuck in myrtle beach last week and stay...</td>\n",
       "    </tr>\n",
       "    <tr>\n",
       "      <th>1</th>\n",
       "      <td>Unfortunately, I have to agree with the other ...</td>\n",
       "      <td>unfortunately, i have to agree with the other ...</td>\n",
       "    </tr>\n",
       "    <tr>\n",
       "      <th>2</th>\n",
       "      <td>Can't go wrong with 24 hour Starbuck's service...</td>\n",
       "      <td>can't go wrong with 24 hour starbuck's service...</td>\n",
       "    </tr>\n",
       "    <tr>\n",
       "      <th>3</th>\n",
       "      <td>I expected much more than what I received here...</td>\n",
       "      <td>i expected much more than what i received here...</td>\n",
       "    </tr>\n",
       "    <tr>\n",
       "      <th>4</th>\n",
       "      <td>This Courtyard is pretty on par with the other...</td>\n",
       "      <td>this courtyard is pretty on par with the other...</td>\n",
       "    </tr>\n",
       "  </tbody>\n",
       "</table>\n",
       "</div>"
      ],
      "text/plain": [
       "                                                text  \\\n",
       "0  I got stuck in Myrtle Beach last week and stay...   \n",
       "1  Unfortunately, I have to agree with the other ...   \n",
       "2  Can't go wrong with 24 hour Starbuck's service...   \n",
       "3  I expected much more than what I received here...   \n",
       "4  This Courtyard is pretty on par with the other...   \n",
       "\n",
       "                                               text1  \n",
       "0  i got stuck in myrtle beach last week and stay...  \n",
       "1  unfortunately, i have to agree with the other ...  \n",
       "2  can't go wrong with 24 hour starbuck's service...  \n",
       "3  i expected much more than what i received here...  \n",
       "4  this courtyard is pretty on par with the other...  "
      ]
     },
     "execution_count": 6,
     "metadata": {},
     "output_type": "execute_result"
    }
   ],
   "source": [
    "review['text1']=review['text'].apply(lambda sen:\" \".join(x.lower() for x in sen.split()))\n",
    "review[['text','text1']].head()"
   ]
  },
  {
   "cell_type": "markdown",
   "metadata": {},
   "source": [
    "delete the punctuation in the text"
   ]
  },
  {
   "cell_type": "code",
   "execution_count": 7,
   "metadata": {},
   "outputs": [
    {
     "data": {
      "text/html": [
       "<div>\n",
       "<style scoped>\n",
       "    .dataframe tbody tr th:only-of-type {\n",
       "        vertical-align: middle;\n",
       "    }\n",
       "\n",
       "    .dataframe tbody tr th {\n",
       "        vertical-align: top;\n",
       "    }\n",
       "\n",
       "    .dataframe thead th {\n",
       "        text-align: right;\n",
       "    }\n",
       "</style>\n",
       "<table border=\"1\" class=\"dataframe\">\n",
       "  <thead>\n",
       "    <tr style=\"text-align: right;\">\n",
       "      <th></th>\n",
       "      <th>text1</th>\n",
       "      <th>text2</th>\n",
       "    </tr>\n",
       "  </thead>\n",
       "  <tbody>\n",
       "    <tr>\n",
       "      <th>0</th>\n",
       "      <td>i got stuck in myrtle beach last week and stay...</td>\n",
       "      <td>i got stuck in myrtle beach last week and stay...</td>\n",
       "    </tr>\n",
       "    <tr>\n",
       "      <th>1</th>\n",
       "      <td>unfortunately, i have to agree with the other ...</td>\n",
       "      <td>unfortunately i have to agree with the other n...</td>\n",
       "    </tr>\n",
       "    <tr>\n",
       "      <th>2</th>\n",
       "      <td>can't go wrong with 24 hour starbuck's service...</td>\n",
       "      <td>cant go wrong with 24 hour starbucks service w...</td>\n",
       "    </tr>\n",
       "    <tr>\n",
       "      <th>3</th>\n",
       "      <td>i expected much more than what i received here...</td>\n",
       "      <td>i expected much more than what i received here...</td>\n",
       "    </tr>\n",
       "    <tr>\n",
       "      <th>4</th>\n",
       "      <td>this courtyard is pretty on par with the other...</td>\n",
       "      <td>this courtyard is pretty on par with the other...</td>\n",
       "    </tr>\n",
       "  </tbody>\n",
       "</table>\n",
       "</div>"
      ],
      "text/plain": [
       "                                               text1  \\\n",
       "0  i got stuck in myrtle beach last week and stay...   \n",
       "1  unfortunately, i have to agree with the other ...   \n",
       "2  can't go wrong with 24 hour starbuck's service...   \n",
       "3  i expected much more than what i received here...   \n",
       "4  this courtyard is pretty on par with the other...   \n",
       "\n",
       "                                               text2  \n",
       "0  i got stuck in myrtle beach last week and stay...  \n",
       "1  unfortunately i have to agree with the other n...  \n",
       "2  cant go wrong with 24 hour starbucks service w...  \n",
       "3  i expected much more than what i received here...  \n",
       "4  this courtyard is pretty on par with the other...  "
      ]
     },
     "execution_count": 7,
     "metadata": {},
     "output_type": "execute_result"
    }
   ],
   "source": [
    "review['text2']=review['text1'].str.replace('[^\\w\\s]','')\n",
    "review[['text1','text2']].head()"
   ]
  },
  {
   "cell_type": "markdown",
   "metadata": {},
   "source": [
    "delete the stop words in text."
   ]
  },
  {
   "cell_type": "code",
   "execution_count": 8,
   "metadata": {},
   "outputs": [
    {
     "name": "stderr",
     "output_type": "stream",
     "text": [
      "[nltk_data] Downloading package stopwords to\n",
      "[nltk_data]     C:\\Users\\zxy\\AppData\\Roaming\\nltk_data...\n",
      "[nltk_data]   Package stopwords is already up-to-date!\n"
     ]
    },
    {
     "data": {
      "text/html": [
       "<div>\n",
       "<style scoped>\n",
       "    .dataframe tbody tr th:only-of-type {\n",
       "        vertical-align: middle;\n",
       "    }\n",
       "\n",
       "    .dataframe tbody tr th {\n",
       "        vertical-align: top;\n",
       "    }\n",
       "\n",
       "    .dataframe thead th {\n",
       "        text-align: right;\n",
       "    }\n",
       "</style>\n",
       "<table border=\"1\" class=\"dataframe\">\n",
       "  <thead>\n",
       "    <tr style=\"text-align: right;\">\n",
       "      <th></th>\n",
       "      <th>text2</th>\n",
       "      <th>text3</th>\n",
       "    </tr>\n",
       "  </thead>\n",
       "  <tbody>\n",
       "    <tr>\n",
       "      <th>0</th>\n",
       "      <td>i got stuck in myrtle beach last week and stay...</td>\n",
       "      <td>got stuck myrtle beach last week stayed waitin...</td>\n",
       "    </tr>\n",
       "    <tr>\n",
       "      <th>1</th>\n",
       "      <td>unfortunately i have to agree with the other n...</td>\n",
       "      <td>unfortunately agree negative review thats post...</td>\n",
       "    </tr>\n",
       "    <tr>\n",
       "      <th>2</th>\n",
       "      <td>cant go wrong with 24 hour starbucks service w...</td>\n",
       "      <td>cant go wrong 24 hour starbucks service stayed...</td>\n",
       "    </tr>\n",
       "    <tr>\n",
       "      <th>3</th>\n",
       "      <td>i expected much more than what i received here...</td>\n",
       "      <td>expected much received first free internet pra...</td>\n",
       "    </tr>\n",
       "    <tr>\n",
       "      <th>4</th>\n",
       "      <td>this courtyard is pretty on par with the other...</td>\n",
       "      <td>courtyard pretty par newly decorated courtyard...</td>\n",
       "    </tr>\n",
       "  </tbody>\n",
       "</table>\n",
       "</div>"
      ],
      "text/plain": [
       "                                               text2  \\\n",
       "0  i got stuck in myrtle beach last week and stay...   \n",
       "1  unfortunately i have to agree with the other n...   \n",
       "2  cant go wrong with 24 hour starbucks service w...   \n",
       "3  i expected much more than what i received here...   \n",
       "4  this courtyard is pretty on par with the other...   \n",
       "\n",
       "                                               text3  \n",
       "0  got stuck myrtle beach last week stayed waitin...  \n",
       "1  unfortunately agree negative review thats post...  \n",
       "2  cant go wrong 24 hour starbucks service stayed...  \n",
       "3  expected much received first free internet pra...  \n",
       "4  courtyard pretty par newly decorated courtyard...  "
      ]
     },
     "execution_count": 8,
     "metadata": {},
     "output_type": "execute_result"
    }
   ],
   "source": [
    "import nltk\n",
    "nltk.download('stopwords')\n",
    "from nltk.corpus import stopwords\n",
    "stop=stopwords.words('english')\n",
    "review['text3']=review['text2'].apply(lambda sen:\" \".join(x for x in sen.split() if x not in stop))\n",
    "review[['text2','text3']].head()"
   ]
  },
  {
   "cell_type": "markdown",
   "metadata": {},
   "source": [
    " Lemmatization"
   ]
  },
  {
   "cell_type": "code",
   "execution_count": 9,
   "metadata": {},
   "outputs": [
    {
     "name": "stderr",
     "output_type": "stream",
     "text": [
      "[nltk_data] Downloading package wordnet to\n",
      "[nltk_data]     C:\\Users\\zxy\\AppData\\Roaming\\nltk_data...\n",
      "[nltk_data]   Package wordnet is already up-to-date!\n"
     ]
    },
    {
     "data": {
      "text/html": [
       "<div>\n",
       "<style scoped>\n",
       "    .dataframe tbody tr th:only-of-type {\n",
       "        vertical-align: middle;\n",
       "    }\n",
       "\n",
       "    .dataframe tbody tr th {\n",
       "        vertical-align: top;\n",
       "    }\n",
       "\n",
       "    .dataframe thead th {\n",
       "        text-align: right;\n",
       "    }\n",
       "</style>\n",
       "<table border=\"1\" class=\"dataframe\">\n",
       "  <thead>\n",
       "    <tr style=\"text-align: right;\">\n",
       "      <th></th>\n",
       "      <th>text3</th>\n",
       "      <th>text4</th>\n",
       "    </tr>\n",
       "  </thead>\n",
       "  <tbody>\n",
       "    <tr>\n",
       "      <th>0</th>\n",
       "      <td>got stuck myrtle beach last week stayed waitin...</td>\n",
       "      <td>got stuck myrtle beach last week stayed waitin...</td>\n",
       "    </tr>\n",
       "    <tr>\n",
       "      <th>1</th>\n",
       "      <td>unfortunately agree negative review thats post...</td>\n",
       "      <td>unfortunately agree negative review thats post...</td>\n",
       "    </tr>\n",
       "    <tr>\n",
       "      <th>2</th>\n",
       "      <td>cant go wrong 24 hour starbucks service stayed...</td>\n",
       "      <td>cant go wrong 24 hour starbucks service stayed...</td>\n",
       "    </tr>\n",
       "    <tr>\n",
       "      <th>3</th>\n",
       "      <td>expected much received first free internet pra...</td>\n",
       "      <td>expected much received first free internet pra...</td>\n",
       "    </tr>\n",
       "    <tr>\n",
       "      <th>4</th>\n",
       "      <td>courtyard pretty par newly decorated courtyard...</td>\n",
       "      <td>courtyard pretty par newly decorated courtyard...</td>\n",
       "    </tr>\n",
       "    <tr>\n",
       "      <th>...</th>\n",
       "      <td>...</td>\n",
       "      <td>...</td>\n",
       "    </tr>\n",
       "    <tr>\n",
       "      <th>4984</th>\n",
       "      <td>got fried chicken wings basically combo fried ...</td>\n",
       "      <td>got fried chicken wing basically combo fried o...</td>\n",
       "    </tr>\n",
       "    <tr>\n",
       "      <th>4985</th>\n",
       "      <td>deepfried chicken fish polish sausage wings fr...</td>\n",
       "      <td>deepfried chicken fish polish sausage wing fry...</td>\n",
       "    </tr>\n",
       "    <tr>\n",
       "      <th>4986</th>\n",
       "      <td>lovely bb amazingly comfortable beds gracious ...</td>\n",
       "      <td>lovely bb amazingly comfortable bed gracious h...</td>\n",
       "    </tr>\n",
       "    <tr>\n",
       "      <th>4987</th>\n",
       "      <td>beautiful little house friends wedding quite b...</td>\n",
       "      <td>beautiful little house friend wedding quite bi...</td>\n",
       "    </tr>\n",
       "    <tr>\n",
       "      <th>4988</th>\n",
       "      <td>town attend family event stayed three nights w...</td>\n",
       "      <td>town attend family event stayed three night wo...</td>\n",
       "    </tr>\n",
       "  </tbody>\n",
       "</table>\n",
       "<p>42371 rows × 2 columns</p>\n",
       "</div>"
      ],
      "text/plain": [
       "                                                  text3  \\\n",
       "0     got stuck myrtle beach last week stayed waitin...   \n",
       "1     unfortunately agree negative review thats post...   \n",
       "2     cant go wrong 24 hour starbucks service stayed...   \n",
       "3     expected much received first free internet pra...   \n",
       "4     courtyard pretty par newly decorated courtyard...   \n",
       "...                                                 ...   \n",
       "4984  got fried chicken wings basically combo fried ...   \n",
       "4985  deepfried chicken fish polish sausage wings fr...   \n",
       "4986  lovely bb amazingly comfortable beds gracious ...   \n",
       "4987  beautiful little house friends wedding quite b...   \n",
       "4988  town attend family event stayed three nights w...   \n",
       "\n",
       "                                                  text4  \n",
       "0     got stuck myrtle beach last week stayed waitin...  \n",
       "1     unfortunately agree negative review thats post...  \n",
       "2     cant go wrong 24 hour starbucks service stayed...  \n",
       "3     expected much received first free internet pra...  \n",
       "4     courtyard pretty par newly decorated courtyard...  \n",
       "...                                                 ...  \n",
       "4984  got fried chicken wing basically combo fried o...  \n",
       "4985  deepfried chicken fish polish sausage wing fry...  \n",
       "4986  lovely bb amazingly comfortable bed gracious h...  \n",
       "4987  beautiful little house friend wedding quite bi...  \n",
       "4988  town attend family event stayed three night wo...  \n",
       "\n",
       "[42371 rows x 2 columns]"
      ]
     },
     "execution_count": 9,
     "metadata": {},
     "output_type": "execute_result"
    }
   ],
   "source": [
    "import nltk\n",
    "nltk.download('wordnet')\n",
    "from textblob import Word\n",
    "review['text4'] = review['text3'].apply(lambda x:\" \".join([Word(word).lemmatize() for word in x.split()]))\n",
    "review[['text3','text4']]"
   ]
  },
  {
   "cell_type": "markdown",
   "metadata": {},
   "source": [
    "remove digit in the text."
   ]
  },
  {
   "cell_type": "code",
   "execution_count": 10,
   "metadata": {},
   "outputs": [],
   "source": [
    " review['text5'] = review['text4'].str.replace(r'\\d+','')"
   ]
  },
  {
   "cell_type": "code",
   "execution_count": 11,
   "metadata": {},
   "outputs": [
    {
     "data": {
      "text/html": [
       "<div>\n",
       "<style scoped>\n",
       "    .dataframe tbody tr th:only-of-type {\n",
       "        vertical-align: middle;\n",
       "    }\n",
       "\n",
       "    .dataframe tbody tr th {\n",
       "        vertical-align: top;\n",
       "    }\n",
       "\n",
       "    .dataframe thead th {\n",
       "        text-align: right;\n",
       "    }\n",
       "</style>\n",
       "<table border=\"1\" class=\"dataframe\">\n",
       "  <thead>\n",
       "    <tr style=\"text-align: right;\">\n",
       "      <th></th>\n",
       "      <th>text4</th>\n",
       "      <th>text5</th>\n",
       "    </tr>\n",
       "  </thead>\n",
       "  <tbody>\n",
       "    <tr>\n",
       "      <th>0</th>\n",
       "      <td>got stuck myrtle beach last week stayed waitin...</td>\n",
       "      <td>got stuck myrtle beach last week stayed waitin...</td>\n",
       "    </tr>\n",
       "    <tr>\n",
       "      <th>1</th>\n",
       "      <td>unfortunately agree negative review thats post...</td>\n",
       "      <td>unfortunately agree negative review thats post...</td>\n",
       "    </tr>\n",
       "    <tr>\n",
       "      <th>2</th>\n",
       "      <td>cant go wrong 24 hour starbucks service stayed...</td>\n",
       "      <td>cant go wrong  hour starbucks service stayed m...</td>\n",
       "    </tr>\n",
       "    <tr>\n",
       "      <th>3</th>\n",
       "      <td>expected much received first free internet pra...</td>\n",
       "      <td>expected much received first free internet pra...</td>\n",
       "    </tr>\n",
       "    <tr>\n",
       "      <th>4</th>\n",
       "      <td>courtyard pretty par newly decorated courtyard...</td>\n",
       "      <td>courtyard pretty par newly decorated courtyard...</td>\n",
       "    </tr>\n",
       "  </tbody>\n",
       "</table>\n",
       "</div>"
      ],
      "text/plain": [
       "                                               text4  \\\n",
       "0  got stuck myrtle beach last week stayed waitin...   \n",
       "1  unfortunately agree negative review thats post...   \n",
       "2  cant go wrong 24 hour starbucks service stayed...   \n",
       "3  expected much received first free internet pra...   \n",
       "4  courtyard pretty par newly decorated courtyard...   \n",
       "\n",
       "                                               text5  \n",
       "0  got stuck myrtle beach last week stayed waitin...  \n",
       "1  unfortunately agree negative review thats post...  \n",
       "2  cant go wrong  hour starbucks service stayed m...  \n",
       "3  expected much received first free internet pra...  \n",
       "4  courtyard pretty par newly decorated courtyard...  "
      ]
     },
     "execution_count": 11,
     "metadata": {},
     "output_type": "execute_result"
    }
   ],
   "source": [
    "review[['text4','text5']].head()"
   ]
  },
  {
   "cell_type": "markdown",
   "metadata": {},
   "source": [
    "### NLP Classification Task"
   ]
  },
  {
   "cell_type": "markdown",
   "metadata": {},
   "source": [
    "A score of 3 or more is considered positive, and marked as 1. A score of 1 or 2 is considered negative, and marked as -1."
   ]
  },
  {
   "cell_type": "code",
   "execution_count": 12,
   "metadata": {},
   "outputs": [],
   "source": [
    "def transfer(score):\n",
    "    if score >= 3:\n",
    "        return 1\n",
    "    else:\n",
    "        return -1"
   ]
  },
  {
   "cell_type": "code",
   "execution_count": 13,
   "metadata": {},
   "outputs": [],
   "source": [
    "review['sentiment'] = review[['stars']].applymap(lambda x:transfer(x))"
   ]
  },
  {
   "cell_type": "code",
   "execution_count": 14,
   "metadata": {},
   "outputs": [],
   "source": [
    "text=review['text5']\n",
    "sentiment = review['sentiment']"
   ]
  },
  {
   "cell_type": "markdown",
   "metadata": {},
   "source": [
    "MultinomialNB model predict sentiment"
   ]
  },
  {
   "cell_type": "code",
   "execution_count": 16,
   "metadata": {},
   "outputs": [],
   "source": [
    "X = text\n",
    "y = sentiment"
   ]
  },
  {
   "cell_type": "code",
   "execution_count": 17,
   "metadata": {},
   "outputs": [],
   "source": [
    "from sklearn.feature_extraction.text import CountVectorizer\n",
    "from sklearn.feature_extraction.text import TfidfTransformer\n",
    "vectorizer = CountVectorizer(ngram_range=(1, 2), max_features=3000,stop_words='english',lowercase=True)\n",
    "transformer = TfidfTransformer()\n",
    "X = transformer.fit_transform(vectorizer.fit_transform(X))"
   ]
  },
  {
   "cell_type": "code",
   "execution_count": 18,
   "metadata": {},
   "outputs": [
    {
     "data": {
      "text/plain": [
       "array([[ -7.13789093,  -8.51720071,  -6.99086197, ...,  -8.81968593,\n",
       "         -9.50244321, -11.75834379]])"
      ]
     },
     "execution_count": 18,
     "metadata": {},
     "output_type": "execute_result"
    }
   ],
   "source": [
    "from sklearn.naive_bayes import MultinomialNB\n",
    "from sklearn.metrics import roc_auc_score, f1_score\n",
    "classifier = MultinomialNB()\n",
    "classifier.fit(X, y)\n",
    "classifier.coef_"
   ]
  },
  {
   "cell_type": "code",
   "execution_count": 19,
   "metadata": {},
   "outputs": [
    {
     "data": {
      "text/plain": [
       "array([0.85616519, 0.86289086, 0.86299268, 0.87172528, 0.86333058])"
      ]
     },
     "execution_count": 19,
     "metadata": {},
     "output_type": "execute_result"
    }
   ],
   "source": [
    "from sklearn.model_selection import cross_val_score\n",
    "CV_score = cross_val_score(MultinomialNB(), X, y, cv=5,scoring = 'accuracy')\n",
    "CV_score"
   ]
  },
  {
   "cell_type": "code",
   "execution_count": 20,
   "metadata": {},
   "outputs": [
    {
     "data": {
      "text/plain": [
       "0.8634209175013522"
      ]
     },
     "execution_count": 20,
     "metadata": {},
     "output_type": "execute_result"
    }
   ],
   "source": [
    "CV_score.mean()"
   ]
  },
  {
   "cell_type": "markdown",
   "metadata": {},
   "source": [
    "LogisticRegression model predict sentiment"
   ]
  },
  {
   "cell_type": "code",
   "execution_count": 21,
   "metadata": {},
   "outputs": [
    {
     "name": "stderr",
     "output_type": "stream",
     "text": [
      "d:\\software\\python36\\lib\\site-packages\\sklearn\\linear_model\\logistic.py:432: FutureWarning: Default solver will be changed to 'lbfgs' in 0.22. Specify a solver to silence this warning.\n",
      "  FutureWarning)\n"
     ]
    },
    {
     "data": {
      "text/plain": [
       "array([[ 2.05043997, -0.35160104, -0.47999705, ...,  0.89871575,\n",
       "        -2.62525176, -1.825964  ]])"
      ]
     },
     "execution_count": 21,
     "metadata": {},
     "output_type": "execute_result"
    }
   ],
   "source": [
    "from sklearn.linear_model import LogisticRegression\n",
    "model = LogisticRegression().fit(X, y)\n",
    "model.coef_"
   ]
  },
  {
   "cell_type": "code",
   "execution_count": 22,
   "metadata": {},
   "outputs": [
    {
     "name": "stderr",
     "output_type": "stream",
     "text": [
      "d:\\software\\python36\\lib\\site-packages\\sklearn\\linear_model\\logistic.py:432: FutureWarning: Default solver will be changed to 'lbfgs' in 0.22. Specify a solver to silence this warning.\n",
      "  FutureWarning)\n"
     ]
    },
    {
     "data": {
      "text/plain": [
       "array([0.89380531, 0.8979351 , 0.89096059, 0.90028322, 0.90570046])"
      ]
     },
     "execution_count": 22,
     "metadata": {},
     "output_type": "execute_result"
    }
   ],
   "source": [
    "from sklearn.model_selection import cross_val_score\n",
    "CV_score = cross_val_score(LogisticRegression(), X, y, cv=5,scoring = 'accuracy')\n",
    "CV_score"
   ]
  },
  {
   "cell_type": "code",
   "execution_count": 23,
   "metadata": {},
   "outputs": [
    {
     "data": {
      "text/plain": [
       "0.8977369355687351"
      ]
     },
     "execution_count": 23,
     "metadata": {},
     "output_type": "execute_result"
    }
   ],
   "source": [
    "CV_score.mean()"
   ]
  },
  {
   "cell_type": "markdown",
   "metadata": {},
   "source": [
    "A score of 4 or 5 is considered positive, and marked as 1. A score of 1 or 2 is considered negative, and marked as -1. A score of 3 is considered natural, and marked as 0. "
   ]
  },
  {
   "cell_type": "code",
   "execution_count": 16,
   "metadata": {},
   "outputs": [],
   "source": [
    "def transfer(score):\n",
    "    if score > 3:\n",
    "        return 1\n",
    "    elif score == 3:\n",
    "        return 0\n",
    "    else:\n",
    "        return -1"
   ]
  },
  {
   "cell_type": "code",
   "execution_count": 17,
   "metadata": {},
   "outputs": [],
   "source": [
    "review['sentiment'] = review[['stars']].applymap(lambda x:transfer(x))"
   ]
  },
  {
   "cell_type": "code",
   "execution_count": 18,
   "metadata": {},
   "outputs": [],
   "source": [
    "text=review['text5']\n",
    "sentiment = review['sentiment']\n",
    "y_ = review['stars']"
   ]
  },
  {
   "cell_type": "code",
   "execution_count": 34,
   "metadata": {},
   "outputs": [],
   "source": [
    "X = text\n",
    "y = sentiment"
   ]
  },
  {
   "cell_type": "markdown",
   "metadata": {},
   "source": [
    "MultinomialNB model predict sentiment"
   ]
  },
  {
   "cell_type": "code",
   "execution_count": 35,
   "metadata": {},
   "outputs": [],
   "source": [
    "from sklearn.feature_extraction.text import CountVectorizer\n",
    "from sklearn.feature_extraction.text import TfidfTransformer\n",
    "vectorizer = CountVectorizer(ngram_range=(1, 2), max_features=3000,stop_words='english',lowercase=True)\n",
    "transformer = TfidfTransformer()\n",
    "X = transformer.fit_transform(vectorizer.fit_transform(X))"
   ]
  },
  {
   "cell_type": "code",
   "execution_count": 36,
   "metadata": {},
   "outputs": [
    {
     "data": {
      "text/plain": [
       "array([[ -7.43125443,  -8.42560821,  -7.1419338 , ...,  -9.31437607,\n",
       "         -7.39712371,  -7.95824117],\n",
       "       [ -7.62113331,  -8.90269084,  -7.96494399, ...,  -8.29390329,\n",
       "         -9.02205692, -10.1195099 ],\n",
       "       [ -7.06343324,  -8.43075287,  -6.8665361 , ...,  -8.96458706,\n",
       "         -9.57260266, -11.80566361]])"
      ]
     },
     "execution_count": 36,
     "metadata": {},
     "output_type": "execute_result"
    }
   ],
   "source": [
    "from sklearn.naive_bayes import MultinomialNB\n",
    "from sklearn.metrics import roc_auc_score, f1_score\n",
    "classifier = MultinomialNB()\n",
    "classifier.fit(X, y)\n",
    "classifier.coef_"
   ]
  },
  {
   "cell_type": "code",
   "execution_count": 37,
   "metadata": {},
   "outputs": [
    {
     "data": {
      "text/plain": [
       "array([0.76660767, 0.77120944, 0.77413264, 0.78251121, 0.77752862])"
      ]
     },
     "execution_count": 37,
     "metadata": {},
     "output_type": "execute_result"
    }
   ],
   "source": [
    "from sklearn.model_selection import cross_val_score\n",
    "CV_score = cross_val_score(MultinomialNB(), X, y, cv=5,scoring = 'accuracy')\n",
    "CV_score"
   ]
  },
  {
   "cell_type": "code",
   "execution_count": 38,
   "metadata": {},
   "outputs": [
    {
     "data": {
      "text/plain": [
       "0.7743979162499688"
      ]
     },
     "execution_count": 38,
     "metadata": {},
     "output_type": "execute_result"
    }
   ],
   "source": [
    "CV_score.mean()"
   ]
  },
  {
   "cell_type": "markdown",
   "metadata": {},
   "source": [
    "LogisticRegression model predict sentiment"
   ]
  },
  {
   "cell_type": "code",
   "execution_count": 39,
   "metadata": {},
   "outputs": [
    {
     "name": "stderr",
     "output_type": "stream",
     "text": [
      "d:\\software\\python36\\lib\\site-packages\\sklearn\\linear_model\\logistic.py:432: FutureWarning: Default solver will be changed to 'lbfgs' in 0.22. Specify a solver to silence this warning.\n",
      "  FutureWarning)\n",
      "d:\\software\\python36\\lib\\site-packages\\sklearn\\linear_model\\logistic.py:469: FutureWarning: Default multi_class will be changed to 'auto' in 0.22. Specify the multi_class option to silence this warning.\n",
      "  \"this warning.\", FutureWarning)\n"
     ]
    },
    {
     "data": {
      "text/plain": [
       "array([[-2.05043996,  0.35160105,  0.47999707, ..., -0.89871575,\n",
       "         2.62525179,  1.82596404],\n",
       "       [-0.83894206, -0.03995583, -2.04430618, ...,  1.05514656,\n",
       "        -1.06914405, -1.04670731],\n",
       "       [ 2.46209046, -0.41236365,  0.76320471, ..., -0.10719627,\n",
       "        -2.16013661, -1.35867442]])"
      ]
     },
     "execution_count": 39,
     "metadata": {},
     "output_type": "execute_result"
    }
   ],
   "source": [
    "from sklearn.linear_model import LogisticRegression\n",
    "model = LogisticRegression().fit(X, y)\n",
    "model.coef_"
   ]
  },
  {
   "cell_type": "code",
   "execution_count": 40,
   "metadata": {},
   "outputs": [
    {
     "name": "stderr",
     "output_type": "stream",
     "text": [
      "d:\\software\\python36\\lib\\site-packages\\sklearn\\linear_model\\logistic.py:432: FutureWarning: Default solver will be changed to 'lbfgs' in 0.22. Specify a solver to silence this warning.\n",
      "  FutureWarning)\n",
      "d:\\software\\python36\\lib\\site-packages\\sklearn\\linear_model\\logistic.py:469: FutureWarning: Default multi_class will be changed to 'auto' in 0.22. Specify the multi_class option to silence this warning.\n",
      "  \"this warning.\", FutureWarning)\n"
     ]
    },
    {
     "data": {
      "text/plain": [
       "array([0.81309735, 0.8160472 , 0.81307529, 0.82251593, 0.82296707])"
      ]
     },
     "execution_count": 40,
     "metadata": {},
     "output_type": "execute_result"
    }
   ],
   "source": [
    "from sklearn.model_selection import cross_val_score\n",
    "CV_score = cross_val_score(LogisticRegression(), X, y, cv=5,scoring = 'accuracy')\n",
    "CV_score"
   ]
  },
  {
   "cell_type": "code",
   "execution_count": 41,
   "metadata": {},
   "outputs": [
    {
     "data": {
      "text/plain": [
       "0.8175405669702409"
      ]
     },
     "execution_count": 41,
     "metadata": {},
     "output_type": "execute_result"
    }
   ],
   "source": [
    "CV_score.mean()"
   ]
  },
  {
   "cell_type": "markdown",
   "metadata": {},
   "source": [
    "LogisticRegression model predict stars"
   ]
  },
  {
   "cell_type": "code",
   "execution_count": 39,
   "metadata": {},
   "outputs": [],
   "source": [
    "X_ = text\n",
    "index_1 = y_==1\n",
    "y_tmp1 = y_[index_1]\n",
    "x_tmp1 = X_[index_1]\n",
    "index_2 = y_==2\n",
    "y_tmp2 = y_[index_2]\n",
    "x_tmp2 = X_[index_2]\n",
    "index_3 = y_==3\n",
    "y_tmp3 = y_[index_3]\n",
    "x_tmp3 = X_[index_3]\n",
    "index_4 = y_==4\n",
    "y_tmp4= y_[index_4]\n",
    "x_tmp4 = X_[index_4]\n",
    "X = pd.concat([X_,x_tmp1,x_tmp2,x_tmp2,x_tmp2,x_tmp3,x_tmp3,x_tmp4])\n",
    "y = pd.concat([y_,y_tmp1,y_tmp2,y_tmp2,y_tmp2,y_tmp3,y_tmp3, y_tmp4])"
   ]
  },
  {
   "cell_type": "code",
   "execution_count": 42,
   "metadata": {},
   "outputs": [],
   "source": [
    "X = text;\n",
    "y = y_"
   ]
  },
  {
   "cell_type": "code",
   "execution_count": 43,
   "metadata": {},
   "outputs": [],
   "source": [
    "from sklearn.feature_extraction.text import CountVectorizer\n",
    "from sklearn.feature_extraction.text import TfidfTransformer\n",
    "vectorizer = CountVectorizer(ngram_range=(1, 2), max_features=3000,stop_words='english',lowercase=True)\n",
    "transformer = TfidfTransformer()\n",
    "X = transformer.fit_transform(vectorizer.fit_transform(X))"
   ]
  },
  {
   "cell_type": "code",
   "execution_count": 44,
   "metadata": {},
   "outputs": [
    {
     "name": "stderr",
     "output_type": "stream",
     "text": [
      "d:\\software\\python36\\lib\\site-packages\\sklearn\\linear_model\\logistic.py:432: FutureWarning: Default solver will be changed to 'lbfgs' in 0.22. Specify a solver to silence this warning.\n",
      "  FutureWarning)\n",
      "d:\\software\\python36\\lib\\site-packages\\sklearn\\linear_model\\logistic.py:469: FutureWarning: Default multi_class will be changed to 'auto' in 0.22. Specify the multi_class option to silence this warning.\n",
      "  \"this warning.\", FutureWarning)\n"
     ]
    },
    {
     "data": {
      "text/plain": [
       "array([[-1.86657172,  1.02722199,  0.93721474, ..., -0.53667165,\n",
       "         2.53378716,  2.56594478],\n",
       "       [-0.65381355, -0.7383874 , -0.97746696, ..., -0.41295469,\n",
       "        -0.37588054, -1.36166977],\n",
       "       [-0.83894202, -0.03995583, -2.04430614, ...,  1.05514658,\n",
       "        -1.06914408, -1.04670718],\n",
       "       [ 0.58246977, -0.9835633 , -1.83314412, ...,  0.33106331,\n",
       "        -1.97971281, -0.98703067],\n",
       "       [ 1.85069458,  0.49999522,  1.8098457 , ..., -0.26601579,\n",
       "        -0.66651697, -0.95165568]])"
      ]
     },
     "execution_count": 44,
     "metadata": {},
     "output_type": "execute_result"
    }
   ],
   "source": [
    "from sklearn.linear_model import LogisticRegression\n",
    "model = LogisticRegression().fit(X, y)\n",
    "model.coef_"
   ]
  },
  {
   "cell_type": "code",
   "execution_count": 45,
   "metadata": {},
   "outputs": [
    {
     "name": "stderr",
     "output_type": "stream",
     "text": [
      "d:\\software\\python36\\lib\\site-packages\\sklearn\\linear_model\\logistic.py:432: FutureWarning: Default solver will be changed to 'lbfgs' in 0.22. Specify a solver to silence this warning.\n",
      "  FutureWarning)\n",
      "d:\\software\\python36\\lib\\site-packages\\sklearn\\linear_model\\logistic.py:469: FutureWarning: Default multi_class will be changed to 'auto' in 0.22. Specify the multi_class option to silence this warning.\n",
      "  \"this warning.\", FutureWarning)\n"
     ]
    },
    {
     "data": {
      "text/plain": [
       "array([0.59981123, 0.59933931, 0.60273811, 0.60450844, 0.59931547])"
      ]
     },
     "execution_count": 45,
     "metadata": {},
     "output_type": "execute_result"
    }
   ],
   "source": [
    "from sklearn.model_selection import cross_val_score\n",
    "CV_score = cross_val_score(LogisticRegression(), X, y, cv=5,scoring = 'accuracy')\n",
    "CV_score"
   ]
  },
  {
   "cell_type": "code",
   "execution_count": 46,
   "metadata": {},
   "outputs": [
    {
     "data": {
      "text/plain": [
       "0.6011425126489289"
      ]
     },
     "execution_count": 46,
     "metadata": {},
     "output_type": "execute_result"
    }
   ],
   "source": [
    "CV_score.mean()"
   ]
  },
  {
   "cell_type": "markdown",
   "metadata": {},
   "source": [
    "MultinomialNB model predict sentiment"
   ]
  },
  {
   "cell_type": "code",
   "execution_count": 57,
   "metadata": {},
   "outputs": [],
   "source": [
    "X = text;\n",
    "y = y_"
   ]
  },
  {
   "cell_type": "code",
   "execution_count": 60,
   "metadata": {},
   "outputs": [],
   "source": [
    "from sklearn.feature_extraction.text import CountVectorizer\n",
    "from sklearn.feature_extraction.text import TfidfTransformer\n",
    "vectorizer = CountVectorizer(ngram_range=(1, 2), max_features=3000,stop_words='english',lowercase=True)\n",
    "transformer = TfidfTransformer()\n",
    "X = transformer.fit_transform(vectorizer.fit_transform(X))"
   ]
  },
  {
   "cell_type": "code",
   "execution_count": 61,
   "metadata": {},
   "outputs": [
    {
     "data": {
      "text/plain": [
       "array([[ -7.37308767,  -8.1238698 ,  -6.94854528, ...,  -9.41634549,\n",
       "         -7.09012345,  -7.52804502],\n",
       "       [ -7.57954535,  -9.03813547,  -7.61893118, ...,  -8.94283755,\n",
       "         -8.26425672,  -9.54297798],\n",
       "       [ -7.62113331,  -8.90269084,  -7.96494399, ...,  -8.29390329,\n",
       "         -9.02205692, -10.1195099 ],\n",
       "       [ -7.32271259,  -8.99150582,  -7.50104669, ...,  -8.54051851,\n",
       "         -9.86280237, -10.89675016],\n",
       "       [ -6.94430499,  -8.16967243,  -6.6188579 , ...,  -9.30077933,\n",
       "         -9.30963473, -11.32669947]])"
      ]
     },
     "execution_count": 61,
     "metadata": {},
     "output_type": "execute_result"
    }
   ],
   "source": [
    "from sklearn.naive_bayes import MultinomialNB\n",
    "from sklearn.metrics import roc_auc_score, f1_score\n",
    "classifier = MultinomialNB()\n",
    "classifier.fit(X, y)\n",
    "classifier.coef_"
   ]
  },
  {
   "cell_type": "code",
   "execution_count": 62,
   "metadata": {},
   "outputs": [
    {
     "data": {
      "text/plain": [
       "array([0.55957999, 0.55969797, 0.56532515, 0.56284669, 0.56508911])"
      ]
     },
     "execution_count": 62,
     "metadata": {},
     "output_type": "execute_result"
    }
   ],
   "source": [
    "from sklearn.model_selection import cross_val_score\n",
    "CV_score = cross_val_score(MultinomialNB(), X, y, cv=5,scoring = 'accuracy')\n",
    "CV_score"
   ]
  },
  {
   "cell_type": "code",
   "execution_count": 63,
   "metadata": {},
   "outputs": [
    {
     "data": {
      "text/plain": [
       "0.5625077815677113"
      ]
     },
     "execution_count": 63,
     "metadata": {},
     "output_type": "execute_result"
    }
   ],
   "source": [
    "CV_score.mean()"
   ]
  }
 ],
 "metadata": {
  "kernelspec": {
   "display_name": "Python 3",
   "language": "python",
   "name": "python3"
  },
  "language_info": {
   "codemirror_mode": {
    "name": "ipython",
    "version": 3
   },
   "file_extension": ".py",
   "mimetype": "text/x-python",
   "name": "python",
   "nbconvert_exporter": "python",
   "pygments_lexer": "ipython3",
   "version": "3.6.4"
  }
 },
 "nbformat": 4,
 "nbformat_minor": 2
}
